{
  "nbformat": 4,
  "nbformat_minor": 0,
  "metadata": {
    "colab": {
      "provenance": [],
      "collapsed_sections": [],
      "include_colab_link": true
    },
    "kernelspec": {
      "name": "python3",
      "display_name": "Python 3"
    },
    "language_info": {
      "name": "python"
    }
  },
  "cells": [
    {
      "cell_type": "markdown",
      "metadata": {
        "id": "view-in-github",
        "colab_type": "text"
      },
      "source": [
        "<a href=\"https://colab.research.google.com/github/antoniojoelson/ChatbotTelegram/blob/main/Sistema_Linear_II_.ipynb\" target=\"_parent\"><img src=\"https://colab.research.google.com/assets/colab-badge.svg\" alt=\"Open In Colab\"/></a>"
      ]
    },
    {
      "cell_type": "markdown",
      "source": [
        "# Lista de exercicios \n",
        "##01"
      ],
      "metadata": {
        "id": "ZzsV94dYRpPb"
      }
    },
    {
      "cell_type": "code",
      "source": [
        "import numpy as np"
      ],
      "metadata": {
        "id": "gcZFKIFEVBeG"
      },
      "execution_count": 26,
      "outputs": []
    },
    {
      "cell_type": "code",
      "source": [
        "A = np.array([[2,-1],[4,-2]])\n",
        "B = np.array([5,10])\n",
        "D = np.linalg.det(A)\n",
        "Ax = np.array([[5,-1],[10,-2]])\n",
        "Dx = np.linalg.det(Ax)\n",
        "\n",
        "\n",
        "\n",
        "\n",
        "detA  = np.linalg.det(A)\n",
        "detAx = np.linalg.det(Ax)\n",
        "\n",
        "print('determinate',detA)\n",
        "\n",
        "\n",
        "\n",
        "if detA !=0:\n",
        "    S = np.linalg.solve(A,B)\n",
        "    print('SPD',S)\n",
        "elif detA == 0 and detAx == 0:\n",
        "    print ('SPI')\n",
        "else:\n",
        "    print('SI')"
      ],
      "metadata": {
        "id": "3vlS1yIewGQ2",
        "colab": {
          "base_uri": "https://localhost:8080/"
        },
        "outputId": "70508a96-0406-435d-e063-e135902d1533"
      },
      "execution_count": 20,
      "outputs": [
        {
          "output_type": "stream",
          "name": "stdout",
          "text": [
            "determinate 0.0\n",
            "SPI\n"
          ]
        }
      ]
    },
    {
      "cell_type": "markdown",
      "source": [
        "#02\n",
        "\n",
        " # -4m  1n   0p = 1\n",
        " #  3m  5n  -2p = 2\n",
        " #  1m  0n   6p = 3 \n"
      ],
      "metadata": {
        "id": "mQZdZ1faSiod"
      }
    },
    {
      "cell_type": "code",
      "source": [
        "A = np.array([[4,1,0],[3,5,-2],[1,0,6]]) # matriz dos coeficientes\n",
        "\n",
        "B = np.array([1,2,3])         # termos independentes\n",
        "Ax = np.array([[1,1,0],[2,5,-2],[3,0,6]])   # troca coluna x pelo termo independente\n",
        "detA = np.linalg.det(A)\n",
        "detAx = np.linalg.det(Ax)\n",
        "\n",
        "# Analisar os determinantes\n",
        "\n",
        "if detA !=0:\n",
        "  S = np.linalg.solve(A,B)\n",
        "  print(\"SPD\")\n",
        "  print(S)\n",
        "else:\n",
        "  if detA ==0 and detAx ==0:\n",
        "    print(\"SPI\")\n",
        "  else:\n",
        "    print(\"SI\")\n",
        "\n"
      ],
      "metadata": {
        "colab": {
          "base_uri": "https://localhost:8080/"
        },
        "outputId": "bd30ecfa-f8a8-419e-ed46-bda4ed0f3e4b",
        "id": "8I19GBPMRueH"
      },
      "execution_count": 22,
      "outputs": [
        {
          "output_type": "stream",
          "name": "stdout",
          "text": [
            "SPD\n",
            "[0.12 0.52 0.48]\n"
          ]
        }
      ]
    },
    {
      "cell_type": "markdown",
      "source": [
        "#03"
      ],
      "metadata": {
        "id": "e_3LONm4VSDC"
      }
    },
    {
      "cell_type": "code",
      "source": [
        "A = np.array([[1,2,-4],[2,-1,2],[3,3,-1]]) \n",
        "B = np.array([5,8,7])\n",
        "D = np.linalg.det(A)\n",
        "\n",
        "result = np.linalg.solve(A,B)\n",
        "print('Pontos x y z = ',result )\n",
        "\n"
      ],
      "metadata": {
        "colab": {
          "base_uri": "https://localhost:8080/"
        },
        "outputId": "ac61b70f-d69f-4641-9545-7513db705087",
        "id": "rUsEMjDrVHb7"
      },
      "execution_count": 32,
      "outputs": [
        {
          "output_type": "stream",
          "name": "stdout",
          "text": [
            "Pontos x y z =  [ 4.2  -2.32 -1.36]\n"
          ]
        }
      ]
    },
    {
      "cell_type": "markdown",
      "source": [
        "#04"
      ],
      "metadata": {
        "id": "PI4JsgRxVyTh"
      }
    },
    {
      "cell_type": "code",
      "source": [
        "A = np.array([[1,2,-1],[2,3,1],[5,3,2]]) # matriz dos coeficientes\n",
        "\n",
        "B = np.array([8,1,-11])         # termos independentes\n",
        "Ax = np.array([[8,2,-1],[1,3,1],[-11,3,2]])   # troca coluna x pelo termo independente\n",
        "detA = np.linalg.det(A)\n",
        "detAx = np.linalg.det(Ax)\n",
        "\n",
        "# Analisar os determinantes\n",
        "\n",
        "if detA !=0:\n",
        "  S = np.linalg.solve(A,B)\n",
        "  print(\"SPD\")\n",
        "  print(S)\n",
        "else:\n",
        "  if detA ==0 and detAx ==0:\n",
        "    print(\"SPI\")\n",
        "  else:\n",
        "    print(\"SI\")\n",
        "\n"
      ],
      "metadata": {
        "colab": {
          "base_uri": "https://localhost:8080/"
        },
        "outputId": "4bec6a78-09ff-46c8-bc55-50b8310892cf",
        "id": "vR-iNiwEWHX-"
      },
      "execution_count": 37,
      "outputs": [
        {
          "output_type": "stream",
          "name": "stdout",
          "text": [
            "SPD\n",
            "[-2.71428571  3.42857143 -3.85714286]\n"
          ]
        }
      ]
    },
    {
      "cell_type": "markdown",
      "source": [
        "##05"
      ],
      "metadata": {
        "id": "GEbGxrvxWHX7"
      }
    },
    {
      "cell_type": "code",
      "source": [
        "A = np.array([[1,1,-1],[1,1,1],[0.15,0.10,0.06]])\n",
        "B = np.array([0,200000,20000])\n",
        "D = np.linalg.det(A)\n",
        "Ax = np.array([[0,1,-1],[200000,1,1],[20000,0.10,0.06]])\n",
        "Dx = np.linalg.det(Ax)\n",
        "\n",
        "\n",
        "result = np.linalg.solve(A,B)\n",
        "\n",
        "detA  = np.linalg.det(A)\n",
        "detAx = np.linalg.det(Ax)\n",
        "\n",
        "\n",
        "if detA !=0:\n",
        "    S = np.linalg.solve(A,B)\n",
        "    print('Valores de invest alto,invest medio, invest baixo ',S)\n",
        "elif detA == 0 and detAx == 0:\n",
        "    print ('SPI')\n",
        "else:\n",
        "    print('SI')"
      ],
      "metadata": {
        "colab": {
          "base_uri": "https://localhost:8080/"
        },
        "outputId": "d2a42f0a-a735-420e-bb18-a530f34ded9f",
        "id": "WySAaKP4VuHh"
      },
      "execution_count": 35,
      "outputs": [
        {
          "output_type": "stream",
          "name": "stdout",
          "text": [
            "Valores de invest alto,invest medio, invest baixo  [ 80000.  20000. 100000.]\n"
          ]
        }
      ]
    }
  ]
}
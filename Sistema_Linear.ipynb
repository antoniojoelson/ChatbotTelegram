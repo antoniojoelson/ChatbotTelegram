{
  "nbformat": 4,
  "nbformat_minor": 0,
  "metadata": {
    "colab": {
      "provenance": [],
      "include_colab_link": true
    },
    "kernelspec": {
      "name": "python3",
      "display_name": "Python 3"
    },
    "language_info": {
      "name": "python"
    }
  },
  "cells": [
    {
      "cell_type": "markdown",
      "metadata": {
        "id": "view-in-github",
        "colab_type": "text"
      },
      "source": [
        "<a href=\"https://colab.research.google.com/github/antoniojoelson/ChatbotTelegram/blob/main/Sistema_Linear.ipynb\" target=\"_parent\"><img src=\"https://colab.research.google.com/assets/colab-badge.svg\" alt=\"Open In Colab\"/></a>"
      ]
    },
    {
      "cell_type": "markdown",
      "source": [
        "# Lista de exercicios \n",
        "##01"
      ],
      "metadata": {
        "id": "ZzsV94dYRpPb"
      }
    },
    {
      "cell_type": "code",
      "source": [
        "import numpy as np"
      ],
      "metadata": {
        "id": "gcZFKIFEVBeG"
      },
      "execution_count": 5,
      "outputs": []
    },
    {
      "cell_type": "code",
      "source": [
        "\n",
        "\n",
        "A = np.array([[2,-1],[1,5]])\n",
        "B = np.array([7,-2])\n",
        "D = np.linalg.det(A)\n",
        "Ax = np.array([[7,-1],[-2,5]])\n",
        "Dx = np.linalg.det(Ax)\n",
        "print(Dx)\n",
        "print(D)\n",
        "\n",
        "result = np.linalg.solve(A,B)\n",
        "\n",
        "detA  = np.linalg.det(A)\n",
        "detAx = np.linalg.det(Ax)\n",
        "\n",
        "\n",
        "if detA !=0:\n",
        "    S = np.linalg.solve(A,B)\n",
        "    print('SPD',S)\n",
        "elif detA == 0 and detAx == 0:\n",
        "    print ('SPI')\n",
        "else:\n",
        "    print('SI')"
      ],
      "metadata": {
        "id": "3vlS1yIewGQ2",
        "colab": {
          "base_uri": "https://localhost:8080/"
        },
        "outputId": "ef5c012a-74ac-46be-cb78-cc03b727bb96"
      },
      "execution_count": 4,
      "outputs": [
        {
          "output_type": "stream",
          "name": "stdout",
          "text": [
            "33.0\n",
            "11.000000000000002\n",
            "SPD [ 3. -1.]\n"
          ]
        }
      ]
    },
    {
      "cell_type": "markdown",
      "source": [
        "##02"
      ],
      "metadata": {
        "id": "mQZdZ1faSiod"
      }
    },
    {
      "cell_type": "code",
      "source": [
        "A = np.array([[1,2,-1],[3,-4,5],[1,1,9]]) # matriz dos coeficientes\n",
        "print(A)\n",
        "B = np.array([0,10,1])         # termos independentes\n",
        "Ax = np.array([[0,2,-1],[10,-4,5],[1,1,9]])   # troca coluna x pelo termo independente\n",
        "detA = np.linalg.det(A)\n",
        "detAx = np.linalg.det(Ax)\n",
        "\n",
        "# Analisar os determinantes\n",
        "\n",
        "if detA !=0:\n",
        "  S = np.linalg.solve(A,B)\n",
        "  print(\"SPD\")\n",
        "  print(S)\n",
        "else:\n",
        "  if detA ==0 and detAx ==0:\n",
        "    print(\"SPI\")\n",
        "  else:\n",
        "    print(\"SI\")\n",
        "\n"
      ],
      "metadata": {
        "colab": {
          "base_uri": "https://localhost:8080/"
        },
        "outputId": "90754b29-b41f-437c-ff9f-e97e27f84f32",
        "id": "8I19GBPMRueH"
      },
      "execution_count": 6,
      "outputs": [
        {
          "output_type": "stream",
          "name": "stdout",
          "text": [
            "[[ 1  2 -1]\n",
            " [ 3 -4  5]\n",
            " [ 1  1  9]]\n",
            "SPD\n",
            "[ 2.00000000e+00 -1.00000000e+00  4.82705663e-17]\n"
          ]
        }
      ]
    },
    {
      "cell_type": "markdown",
      "source": [
        "#03"
      ],
      "metadata": {
        "id": "e_3LONm4VSDC"
      }
    },
    {
      "cell_type": "code",
      "source": [
        "A = np.array([[1,2],[2,3]])\n",
        "B = np.array([5,-4])\n",
        "D = np.linalg.det(A)\n",
        "Ax = np.array([[5,2],[-4,3]])\n",
        "Dx = np.linalg.det(Ax)\n",
        "print(Dx)\n",
        "print(D)\n",
        "\n",
        "result = np.linalg.solve(A,B)\n",
        "\n",
        "detA  = np.linalg.det(A)\n",
        "detAx = np.linalg.det(Ax)\n",
        "\n",
        "\n",
        "if detA !=0:\n",
        "    S = np.linalg.solve(A,B)\n",
        "    print('SPD',S)\n",
        "elif detA == 0 and detAx == 0:\n",
        "    print ('SPI')\n",
        "else:\n",
        "    print('SI')"
      ],
      "metadata": {
        "colab": {
          "base_uri": "https://localhost:8080/"
        },
        "outputId": "b487ba20-65d0-4192-b014-4a6f52aea9b9",
        "id": "rUsEMjDrVHb7"
      },
      "execution_count": 7,
      "outputs": [
        {
          "output_type": "stream",
          "name": "stdout",
          "text": [
            "23.0\n",
            "-1.0\n",
            "SPD [-23.  14.]\n"
          ]
        }
      ]
    },
    {
      "cell_type": "markdown",
      "source": [
        "#04"
      ],
      "metadata": {
        "id": "PI4JsgRxVyTh"
      }
    },
    {
      "cell_type": "code",
      "source": [
        "A = np.array([[2,-1],[1,5]])\n",
        "B = np.array([7,-2])\n",
        "D = np.linalg.det(A)\n",
        "Ax = np.array([[7,-1],[-2,5]])\n",
        "Dx = np.linalg.det(Ax)\n",
        "print(Dx)\n",
        "print(D)\n",
        "\n",
        "result = np.linalg.solve(A,B)\n",
        "\n",
        "detA  = np.linalg.det(A)\n",
        "detAx = np.linalg.det(Ax)\n",
        "\n",
        "\n",
        "if detA !=0:\n",
        "    S = np.linalg.solve(A,B)\n",
        "    print('SPD',S)\n",
        "elif detA == 0 and detAx == 0:\n",
        "    print ('SPI')\n",
        "else:\n",
        "    print('SI')"
      ],
      "metadata": {
        "colab": {
          "base_uri": "https://localhost:8080/"
        },
        "outputId": "ef5c012a-74ac-46be-cb78-cc03b727bb96",
        "id": "WySAaKP4VuHh"
      },
      "execution_count": null,
      "outputs": [
        {
          "output_type": "stream",
          "name": "stdout",
          "text": [
            "33.0\n",
            "11.000000000000002\n",
            "SPD [ 3. -1.]\n"
          ]
        }
      ]
    },
    {
      "cell_type": "markdown",
      "source": [],
      "metadata": {
        "id": "fPoW0YXkWDXi"
      }
    },
    {
      "cell_type": "markdown",
      "source": [
        "##05"
      ],
      "metadata": {
        "id": "GEbGxrvxWHX7"
      }
    },
    {
      "cell_type": "code",
      "source": [
        "A = np.array([[2,-1,1],[1,-1,2],[1,1,1]]) # matriz dos coeficientes\n",
        "print(A)\n",
        "B = np.array([3,3,6])         # termos independentes\n",
        "Ax = np.array([[3,-1,1],[3,-1,2],[6,1,1]])   # troca coluna x pelo termo independente\n",
        "detA = np.linalg.det(A)\n",
        "detAx = np.linalg.det(Ax)\n",
        "\n",
        "# Analisar os determinantes\n",
        "\n",
        "if detA !=0:\n",
        "  S = np.linalg.solve(A,B)\n",
        "  print(\"SPD\")\n",
        "  print(S)\n",
        "else:\n",
        "  if detA ==0 and detAx ==0:\n",
        "    print(\"SPI\")\n",
        "  else:\n",
        "    print(\"SI\")\n",
        "\n"
      ],
      "metadata": {
        "colab": {
          "base_uri": "https://localhost:8080/"
        },
        "outputId": "b5b57d1d-f2d7-4906-8820-86cac727d255",
        "id": "vR-iNiwEWHX-"
      },
      "execution_count": 8,
      "outputs": [
        {
          "output_type": "stream",
          "name": "stdout",
          "text": [
            "[[ 2 -1  1]\n",
            " [ 1 -1  2]\n",
            " [ 1  1  1]]\n",
            "SPD\n",
            "[1.8 2.4 1.8]\n"
          ]
        }
      ]
    },
    {
      "cell_type": "markdown",
      "source": [
        "#06"
      ],
      "metadata": {
        "id": "p7_pYsdbWNmV"
      }
    },
    {
      "cell_type": "code",
      "source": [
        "A = np.array([[1,4,7],[2,3,6],[5,1,-1]]) # matriz dos coeficientes\n",
        "print(A)\n",
        "B = np.array([2,2,8])         # termos independentes\n",
        "Ax = np.array([[2,4,7],[2,3,6],[8,1,-1]])   # troca coluna x pelo termo independente\n",
        "detA = np.linalg.det(A)\n",
        "detAx = np.linalg.det(Ax)\n",
        "\n",
        "# Analisar os determinantes\n",
        "\n",
        "if detA !=0:\n",
        "  S = np.linalg.solve(A,B)\n",
        "  print(\"SPD\")\n",
        "  print(S)\n",
        "else:\n",
        "  if detA ==0 and detAx ==0:\n",
        "    print(\"SPI\")\n",
        "  else:\n",
        "    print(\"SI\")\n",
        "\n"
      ],
      "metadata": {
        "colab": {
          "base_uri": "https://localhost:8080/"
        },
        "outputId": "7dfd1148-9cb6-4445-d968-9b48565751ce",
        "id": "7uewGbnOWNmY"
      },
      "execution_count": 9,
      "outputs": [
        {
          "output_type": "stream",
          "name": "stdout",
          "text": [
            "[[ 1  4  7]\n",
            " [ 2  3  6]\n",
            " [ 5  1 -1]]\n",
            "SPD\n",
            "[ 1.  2. -1.]\n"
          ]
        }
      ]
    }
  ]
}
{
  "nbformat": 4,
  "nbformat_minor": 0,
  "metadata": {
    "colab": {
      "name": "Trabalho.ipynb",
      "provenance": [],
      "include_colab_link": true
    },
    "kernelspec": {
      "name": "python3",
      "display_name": "Python 3"
    },
    "language_info": {
      "name": "python"
    }
  },
  "cells": [
    {
      "cell_type": "markdown",
      "metadata": {
        "id": "view-in-github",
        "colab_type": "text"
      },
      "source": [
        "<a href=\"https://colab.research.google.com/github/antoniojoelson/ChatbotTelegram/blob/main/Trabalho%2001.ipynb\" target=\"_parent\"><img src=\"https://colab.research.google.com/assets/colab-badge.svg\" alt=\"Open In Colab\"/></a>"
      ]
    },
    {
      "cell_type": "markdown",
      "source": [
        "Trabalho 01"
      ],
      "metadata": {
        "id": "5yvB_nI_MvfS"
      }
    },
    {
      "cell_type": "code",
      "source": [
        "from google.colab import drive #conexação com drive\n",
        "drive.mount('/content/drive')"
      ],
      "metadata": {
        "colab": {
          "base_uri": "https://localhost:8080/"
        },
        "id": "vltBrlTGNCnn",
        "outputId": "8575fce8-d709-4cdb-f703-588deeb3862c"
      },
      "execution_count": 1,
      "outputs": [
        {
          "output_type": "stream",
          "name": "stdout",
          "text": [
            "Mounted at /content/drive\n"
          ]
        }
      ]
    },
    {
      "cell_type": "code",
      "source": [
        "import pandas as pd # import da biblioteca\n"
      ],
      "metadata": {
        "id": "cfhhVZcOMtss"
      },
      "execution_count": 4,
      "outputs": []
    },
    {
      "cell_type": "code",
      "source": [
        "df1 = pd.read_csv('/content/drive/MyDrive/Datasets/reclamacoes-fundamentadas-sindec-2012.csv/reclamacoes-fundamentadas-sindec-2012.csv') # Le o arquivo train.csv\n",
        "df2 = pd.read_csv('/content/drive/MyDrive/Datasets/reclamacoes-fundamentadas-sindec-2013.csv/reclamacoes-fundamentadas-sindec-2013.csv') # Le o arquivo train.csv\n",
        "df3 = pd.read_csv('/content/drive/MyDrive/Datasets/reclamacoes-fundamentadas-sindec-2014.csv/reclamacoes-fundamentadas-sindec-2014.csv') # Le o arquivo train.csv\n",
        "df4 = pd.read_csv('/content/drive/MyDrive/Datasets/reclamacoes-fundamentadas-sindec-2015.csv/reclamacoes-fundamentadas-sindec-2015.csv') # Le o arquivo train.csv\n",
        "df5 = pd.read_csv('/content/drive/MyDrive/Datasets/reclamacoes-fundamentadas-sindec-2016.csv/reclamacoes-fundamentadas-sindec-2016.csv') # Le o arquivo train.csv\n"
      ],
      "metadata": {
        "id": "sc8Jopieg-fW",
        "colab": {
          "base_uri": "https://localhost:8080/"
        },
        "outputId": "e7b9075c-ff76-4fd5-d2e6-3bfe697810f8"
      },
      "execution_count": 10,
      "outputs": [
        {
          "output_type": "stream",
          "name": "stderr",
          "text": [
            "/usr/local/lib/python3.7/dist-packages/IPython/core/interactiveshell.py:3326: DtypeWarning: Columns (22) have mixed types.Specify dtype option on import or set low_memory=False.\n",
            "  exec(code_obj, self.user_global_ns, self.user_ns)\n"
          ]
        }
      ]
    },
    {
      "cell_type": "code",
      "source": [
        "df1.shape, df2.shape, df3.shape, df4.shape,df5.shape # total de linhas e colunas "
      ],
      "metadata": {
        "colab": {
          "base_uri": "https://localhost:8080/"
        },
        "id": "3EUIXr7wQiYz",
        "outputId": "dba3acbe-617b-4d97-c457-082d42d89272"
      },
      "execution_count": 11,
      "outputs": [
        {
          "output_type": "execute_result",
          "data": {
            "text/plain": [
              "((211076, 23), (268096, 23), (267764, 23), (255650, 23), (203486, 23))"
            ]
          },
          "metadata": {},
          "execution_count": 11
        }
      ]
    },
    {
      "cell_type": "code",
      "source": [
        "frames = [df1,df2,df3,df4,df5] #juntanto"
      ],
      "metadata": {
        "id": "Jc3oTCuoSkn-"
      },
      "execution_count": 12,
      "outputs": []
    },
    {
      "cell_type": "code",
      "source": [
        "df_full = pd.concat(frames) # concatena os cinco datasets\n",
        "df_full.shape"
      ],
      "metadata": {
        "colab": {
          "base_uri": "https://localhost:8080/"
        },
        "id": "6EEu5LNtS6SD",
        "outputId": "c6560fa5-320e-408e-fb45-04b2d2715c0d"
      },
      "execution_count": 13,
      "outputs": [
        {
          "output_type": "execute_result",
          "data": {
            "text/plain": [
              "(1206072, 23)"
            ]
          },
          "metadata": {},
          "execution_count": 13
        }
      ]
    }
  ]
}
{
  "nbformat": 4,
  "nbformat_minor": 0,
  "metadata": {
    "colab": {
      "provenance": [],
      "authorship_tag": "ABX9TyOgqI+hnlrVnXSEsMHMwmFU",
      "include_colab_link": true
    },
    "kernelspec": {
      "name": "python3",
      "display_name": "Python 3"
    },
    "language_info": {
      "name": "python"
    }
  },
  "cells": [
    {
      "cell_type": "markdown",
      "metadata": {
        "id": "view-in-github",
        "colab_type": "text"
      },
      "source": [
        "<a href=\"https://colab.research.google.com/github/antoniojoelson/ChatbotTelegram/blob/main/chatbot.ipynb\" target=\"_parent\"><img src=\"https://colab.research.google.com/assets/colab-badge.svg\" alt=\"Open In Colab\"/></a>"
      ]
    },
    {
      "cell_type": "code",
      "execution_count": 5,
      "metadata": {
        "id": "PFTW6Kk-IL-g"
      },
      "outputs": [],
      "source": [
        "\n",
        "import telebot\n",
        "#from chatterbot import ChatBot\n",
        "\n",
        "#conexação com telegram\n",
        "CHAVE_API=\"5502325530:AAG4nNqRiPbcdCJ9ty_CPgKyQgE85mG2CS8\"\n",
        "bot = telebot.TeleBot(CHAVE_API)\n",
        "\n",
        "\n",
        "@bot.message_handler(commands=[\"login\"])\n",
        "def opcao1(mensagem):\n",
        "    texto = \"\"\"\n",
        "    O que você quer? (Clique em uma opção)\n",
        "    /entrar - Fazer agendamento\n",
        "    /cadastrar - Cadastro\n",
        "    /sair\"\"\"\n",
        "    bot.send_message(mensagem.chat.id, texto)\n",
        "\n",
        "@bot.message_handler(commands=[\"duvidas\"])\n",
        "def opcao2(mensagem):\n",
        "    texto = \"\"\"Qual sua duvida, \n",
        "    /pagamento - como e cobrado e quais planos cobrimos\n",
        "    /procedimento - o que fazer antes do exame\n",
        "    /contato - se for uma duvida difernte entre em contato\n",
        "    /sair \n",
        "    \"\"\"\n",
        "    bot.send_message(mensagem.chat.id, texto)\n",
        "    \n",
        "@bot.message_handler(commands=[\"contato\"])\n",
        "def opcao3(mensagem):\n",
        "    texto = \"\"\"O Muito Obrigado,\\n☎  (11) 2041-5031 \\n📧 contato.sac@maissaude.com.br\n",
        "    \n",
        "    /sair\n",
        "    \"\"\"\n",
        "    bot.send_message(mensagem.chat.id, texto)\n",
        "\n",
        "\n",
        "@bot.message_handler(commands=[\"sair\"])\n",
        "def opcao4(mensagem):\n",
        "    texto = \"\"\"O Muito Obrigado, Ajude a melhora o atendimeto, por favor Click em avaliar\n",
        "    ⬇️⬇️⬇️\n",
        "    /avaliar \n",
        "    \"\"\"\n",
        "    bot.send_message(mensagem.chat.id, texto)\n",
        "    \n",
        "\n",
        "@bot.message_handler(commands=[\"avaliar\"])\n",
        "def opcao5(mensagem):\n",
        "    texto = \"\"\"Nota de atendimento, \n",
        "     Digite um valor entre 0 e 5\n",
        "    \"\"\"\n",
        "    bot.send_message(mensagem.chat.id, texto)\n",
        "    #ver como guardar a nota e mostar pro user e pedir confirmação e agradecer\n",
        "\n",
        "\n",
        "@bot.message_handler(commands=[\"pagamento\"])\n",
        "def opcao6(mensagem):\n",
        "    texto = \"\"\"Aqui em nossa clinica,\\nAceitamos credito, Debito e tbm PIX\\nDesinto no PIX \\nAcima de 100,00 parcelamos em 2x sem juros\n",
        "    \"\"\"\n",
        "    bot.send_message(mensagem.chat.id, texto)\n",
        "\n",
        "\n",
        "@bot.message_handler(commands=[\"procedimento\"])\n",
        "def opcao6(mensagem):\n",
        "    texto = \"\"\"Cuidados\\n não comer 6h antes do exame de sangue \\n Vir com roupas leves para utrason \\n não esquecer dos potes para exames de fezes\n",
        "    \"\"\"\n",
        "    bot.send_message(mensagem.chat.id, texto)\n",
        "    \n",
        "@bot.message_handler(commands=[\"entrar\"])\n",
        "def opcao6(mensagem):\n",
        "    texto = \"\"\"Digite seu CPF apenas numeros: ex:12345678912\n",
        "    \"\"\"\n",
        "    bot.send_message(mensagem.chat.id, texto)\n",
        "    #fazer conexao e opcao e fazer while\n",
        "\n",
        "@bot.message_handler(commands=[\"cadastrar\"])\n",
        "def opcao6(mensagem):\n",
        "    texto = \"\"\"Digite seu CPF apenas numeros: ex:12345678912\n",
        "    \"\"\"\n",
        "    bot.send_message(mensagem.chat.id, texto)\n",
        "    #fazer conexao e opcao e fazer while\n",
        "\n",
        "\n",
        "\n",
        "def verificar(mensagem):\n",
        "    return True\n",
        "\n",
        "\n",
        "\n",
        "\n",
        "\n",
        "\n",
        "\n",
        "@bot.message_handler(func =  verificar)\n",
        "def responder(mensagem):\n",
        "    texto='Bem Vindo ao auto adendimento Mais Saude'\n",
        "    bot.send_message(mensagem.chat.id,texto)\n",
        "    \n",
        "    menu = \"\"\"Escolha uma das opções para continuar\n",
        "    /login - entrar no sistema \n",
        "    /duvidas - como funciona \n",
        "    /contato - redes e teleone fixo\n",
        "    /sair\"\"\"\n",
        "    bot.send_message(mensagem.chat.id, menu)\n",
        "\n",
        "bot.polling()\n"
      ]
    },
    {
      "cell_type": "code",
      "source": [
        "\n",
        "pip install pyTelegramBotAPI"
      ],
      "metadata": {
        "colab": {
          "base_uri": "https://localhost:8080/"
        },
        "id": "Sf1o_aSNMVRN",
        "outputId": "0c74db28-019e-4a82-a8ff-de96861f8f2e"
      },
      "execution_count": 3,
      "outputs": [
        {
          "output_type": "stream",
          "name": "stdout",
          "text": [
            "Looking in indexes: https://pypi.org/simple, https://us-python.pkg.dev/colab-wheels/public/simple/\n",
            "Collecting pyTelegramBotAPI\n",
            "  Downloading pyTelegramBotAPI-4.7.0.tar.gz (210 kB)\n",
            "\u001b[K     |████████████████████████████████| 210 kB 5.0 MB/s \n",
            "\u001b[?25hRequirement already satisfied: requests in /usr/local/lib/python3.7/dist-packages (from pyTelegramBotAPI) (2.23.0)\n",
            "Requirement already satisfied: chardet<4,>=3.0.2 in /usr/local/lib/python3.7/dist-packages (from requests->pyTelegramBotAPI) (3.0.4)\n",
            "Requirement already satisfied: urllib3!=1.25.0,!=1.25.1,<1.26,>=1.21.1 in /usr/local/lib/python3.7/dist-packages (from requests->pyTelegramBotAPI) (1.24.3)\n",
            "Requirement already satisfied: idna<3,>=2.5 in /usr/local/lib/python3.7/dist-packages (from requests->pyTelegramBotAPI) (2.10)\n",
            "Requirement already satisfied: certifi>=2017.4.17 in /usr/local/lib/python3.7/dist-packages (from requests->pyTelegramBotAPI) (2022.9.24)\n",
            "Building wheels for collected packages: pyTelegramBotAPI\n",
            "  Building wheel for pyTelegramBotAPI (setup.py) ... \u001b[?25l\u001b[?25hdone\n",
            "  Created wheel for pyTelegramBotAPI: filename=pyTelegramBotAPI-4.7.0-py3-none-any.whl size=192826 sha256=e4828a185c2b5836db68754e7545701149ef6836757e4563610861d7277d62a5\n",
            "  Stored in directory: /root/.cache/pip/wheels/ba/13/da/8abf941f7cf9f993cde6118a56a7c24e12ed791507acd8ea39\n",
            "Successfully built pyTelegramBotAPI\n",
            "Installing collected packages: pyTelegramBotAPI\n",
            "Successfully installed pyTelegramBotAPI-4.7.0\n"
          ]
        }
      ]
    },
    {
      "cell_type": "code",
      "source": [
        "pip install python-telegram-bot"
      ],
      "metadata": {
        "colab": {
          "base_uri": "https://localhost:8080/",
          "height": 696
        },
        "id": "D1ukwFB6NHgv",
        "outputId": "c339757f-2a80-407f-e3df-099db4fe271b"
      },
      "execution_count": 4,
      "outputs": [
        {
          "output_type": "stream",
          "name": "stdout",
          "text": [
            "Looking in indexes: https://pypi.org/simple, https://us-python.pkg.dev/colab-wheels/public/simple/\n",
            "Collecting python-telegram-bot\n",
            "  Downloading python_telegram_bot-13.14-py3-none-any.whl (514 kB)\n",
            "\u001b[K     |████████████████████████████████| 514 kB 5.0 MB/s \n",
            "\u001b[?25hCollecting APScheduler==3.6.3\n",
            "  Downloading APScheduler-3.6.3-py2.py3-none-any.whl (58 kB)\n",
            "\u001b[K     |████████████████████████████████| 58 kB 6.2 MB/s \n",
            "\u001b[?25hCollecting cachetools==4.2.2\n",
            "  Downloading cachetools-4.2.2-py3-none-any.whl (11 kB)\n",
            "Requirement already satisfied: certifi in /usr/local/lib/python3.7/dist-packages (from python-telegram-bot) (2022.9.24)\n",
            "Requirement already satisfied: pytz>=2018.6 in /usr/local/lib/python3.7/dist-packages (from python-telegram-bot) (2022.4)\n",
            "Collecting tornado==6.1\n",
            "  Downloading tornado-6.1-cp37-cp37m-manylinux2010_x86_64.whl (428 kB)\n",
            "\u001b[K     |████████████████████████████████| 428 kB 53.4 MB/s \n",
            "\u001b[?25hRequirement already satisfied: setuptools>=0.7 in /usr/local/lib/python3.7/dist-packages (from APScheduler==3.6.3->python-telegram-bot) (57.4.0)\n",
            "Requirement already satisfied: tzlocal>=1.2 in /usr/local/lib/python3.7/dist-packages (from APScheduler==3.6.3->python-telegram-bot) (1.5.1)\n",
            "Requirement already satisfied: six>=1.4.0 in /usr/local/lib/python3.7/dist-packages (from APScheduler==3.6.3->python-telegram-bot) (1.15.0)\n",
            "Installing collected packages: tornado, cachetools, APScheduler, python-telegram-bot\n",
            "  Attempting uninstall: tornado\n",
            "    Found existing installation: tornado 5.1.1\n",
            "    Uninstalling tornado-5.1.1:\n",
            "      Successfully uninstalled tornado-5.1.1\n",
            "  Attempting uninstall: cachetools\n",
            "    Found existing installation: cachetools 4.2.4\n",
            "    Uninstalling cachetools-4.2.4:\n",
            "      Successfully uninstalled cachetools-4.2.4\n",
            "\u001b[31mERROR: pip's dependency resolver does not currently take into account all the packages that are installed. This behaviour is the source of the following dependency conflicts.\n",
            "google-colab 1.0.0 requires tornado~=5.1.0, but you have tornado 6.1 which is incompatible.\u001b[0m\n",
            "Successfully installed APScheduler-3.6.3 cachetools-4.2.2 python-telegram-bot-13.14 tornado-6.1\n"
          ]
        },
        {
          "output_type": "display_data",
          "data": {
            "application/vnd.colab-display-data+json": {
              "pip_warning": {
                "packages": [
                  "tornado"
                ]
              }
            }
          },
          "metadata": {}
        }
      ]
    }
  ]
}
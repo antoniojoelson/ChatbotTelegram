{
  "nbformat": 4,
  "nbformat_minor": 0,
  "metadata": {
    "colab": {
      "provenance": [],
      "include_colab_link": true
    },
    "kernelspec": {
      "name": "python3",
      "display_name": "Python 3"
    },
    "language_info": {
      "name": "python"
    }
  },
  "cells": [
    {
      "cell_type": "markdown",
      "metadata": {
        "id": "view-in-github",
        "colab_type": "text"
      },
      "source": [
        "<a href=\"https://colab.research.google.com/github/antoniojoelson/ChatbotTelegram/blob/main/Trabalho_de_FALSAPOSICAO.ipynb\" target=\"_parent\"><img src=\"https://colab.research.google.com/assets/colab-badge.svg\" alt=\"Open In Colab\"/></a>"
      ]
    },
    {
      "cell_type": "markdown",
      "source": [
        "## **Metodos numerico** "
      ],
      "metadata": {
        "id": "E6suII89SsBY"
      }
    },
    {
      "cell_type": "code",
      "metadata": {
        "id": "ZaIYYdqqO0nX"
      },
      "source": [
        "import math"
      ],
      "execution_count": 62,
      "outputs": []
    },
    {
      "cell_type": "code",
      "metadata": {
        "id": "6yzC38NuNw7y"
      },
      "source": [
        "#teorema do mediterranio \n",
        "def teorema(a,b,func):\n",
        "  fA = func(a)\n",
        "  fB = func(b)\n",
        "  r = fA*fB\n",
        "  return r<=0,fA>0,fB>0"
      ],
      "execution_count": 30,
      "outputs": []
    },
    {
      "cell_type": "code",
      "metadata": {
        "id": "pGika70wFU6M"
      },
      "source": [
        "def raizBissecao(func,a,b):\n",
        "  return (a+b)/2"
      ],
      "execution_count": 31,
      "outputs": []
    },
    {
      "cell_type": "code",
      "metadata": {
        "id": "apYdOAkDF_31"
      },
      "source": [
        "def raizFalsaPosicao(func,a,b):\n",
        "  return (a*func(b)-b*func(a))/(func(b)-func(a))"
      ],
      "execution_count": 32,
      "outputs": []
    },
    {
      "cell_type": "code",
      "metadata": {
        "id": "OdYzdKzOSG1G"
      },
      "source": [
        "def resolucao(func,funcRaiz,a,b,criterio, aPositivo,bPositivo, interacao):\n",
        "  interacao+=1\n",
        "  raiz = funcRaiz(func,a,b)\n",
        "  sinal = func(raiz)\n",
        "  if(abs(sinal)<=criterio):\n",
        "    return a,b,raiz,sinal,interacao\n",
        "  if(aPositivo):\n",
        "    if(sinal>0):\n",
        "      a=raiz\n",
        "  else:\n",
        "    if (sinal<0):\n",
        "      a=raiz\n",
        "  if (bPositivo):\n",
        "    if(sinal>0):\n",
        "      b=raiz\n",
        "  else:\n",
        "    if(sinal<0):\n",
        "      b=raiz\n",
        "  return resolucao(func,funcRaiz,a,b,criterio, aPositivo,bPositivo,interacao)"
      ],
      "execution_count": 33,
      "outputs": []
    },
    {
      "cell_type": "markdown",
      "source": [],
      "metadata": {
        "id": "hQ1vmmPsPxx5"
      }
    },
    {
      "cell_type": "code",
      "metadata": {
        "id": "XJLZsuQYPgWf"
      },
      "source": [
        "def main(func,funcRaiz,a,b, criterio):\n",
        "  try:\n",
        "    temRaiz, aPositivo, bPositivo = teorema(a,b,func)\n",
        "    if(temRaiz):\n",
        "      a,b,raiz,sinal, interacao = resolucao(func,funcRaiz,a,b,criterio,aPositivo,bPositivo,0)\n",
        "      return f'Interação: {interacao}, Raiz aproximada: {raiz}, Sinal: {sinal}, Intervalo:[{a}, {b}]'\n",
        "    return \"Não tem raiz\"\n",
        "  except RecursionError:\n",
        "    return \"Excedeu o limite de inteções\""
      ],
      "execution_count": 34,
      "outputs": []
    },
    {
      "cell_type": "code",
      "metadata": {
        "colab": {
          "base_uri": "https://localhost:8080/"
        },
        "id": "YahKsK1wX68J",
        "outputId": "4227997d-6dd8-41c0-d5ff-47228471bdc3"
      },
      "source": [
        "def equacao(x):\n",
        "  return math.pow(x,2)+math.log(x)\n",
        "print(f'\\nBisseção: {main(equacao,raizBissecao,0.5,1,0.05)}')\n",
        "print(f'\\nFalsa posição: {main(equacao,raizFalsaPosicao,0.5,1,0.05)}')"
      ],
      "execution_count": 35,
      "outputs": [
        {
          "output_type": "stream",
          "name": "stdout",
          "text": [
            "\n",
            "Bisseção: Interação: 4, Raiz aproximada: 0.65625, Sinal: 0.009450597423696472, Intervalo:[0.625, 0.6875]\n",
            "\n",
            "Falsa posição: Interação: 1, Raiz aproximada: 0.6535349916243479, Sinal: 0.0017487828753663948, Intervalo:[0.5, 1]\n"
          ]
        }
      ]
    },
    {
      "cell_type": "code",
      "metadata": {
        "colab": {
          "base_uri": "https://localhost:8080/"
        },
        "id": "_knxrUQaIiTD",
        "outputId": "c9fe97e8-a9c2-433d-d71f-ef1ff708db08"
      },
      "source": [
        "def equacao(x):\n",
        "  return 3*math.pow(x,3)-2*math.pow(x,2)+5*x-1\n",
        "a=0\n",
        "b=1\n",
        "criterio=0.05\n",
        "print(f'Bisseção: {main(equacao,raizBissecao,a,b,criterio)}')\n",
        "print(f'Falsa posição: {main(equacao,raizFalsaPosicao,a,b,criterio)}')"
      ],
      "execution_count": 36,
      "outputs": [
        {
          "output_type": "stream",
          "name": "stdout",
          "text": [
            "Bisseção: Interação: 5, Raiz aproximada: 0.21875, Sinal: 0.029449462890625, Intervalo:[0.1875, 0.25]\n",
            "Falsa posição: Interação: 3, Raiz aproximada: 0.2088607594936709, Sinal: -0.015608552264628095, Intervalo:[0.19999999999999998, 1]\n"
          ]
        }
      ]
    },
    {
      "cell_type": "markdown",
      "metadata": {
        "id": "itPLKwMVHXtQ"
      },
      "source": [
        "# **Atividade falsa posição**"
      ]
    },
    {
      "cell_type": "markdown",
      "source": [
        "**EXERCICIO 1**\n",
        "\n",
        "F(x) = sen(x)+cos(x) | [2 , 3] | E < 0,0005"
      ],
      "metadata": {
        "id": "1CrW0zhlTO2L"
      }
    },
    {
      "cell_type": "code",
      "metadata": {
        "colab": {
          "base_uri": "https://localhost:8080/"
        },
        "outputId": "91fb04c1-c9e2-45ff-b2b2-c62409c73b24",
        "id": "XduEphucKMmg"
      },
      "source": [
        "#atividade I\n",
        "def equacao(x):\n",
        "  return math.sin(x) +math.cos(x)\n",
        "a=2\n",
        "b=3\n",
        "criterio=0.0005\n",
        "print(f'Bisseção: {main(equacao,raizBissecao,a,b,criterio)}')\n",
        "print(f'Falsa posição: {main(equacao,raizFalsaPosicao,a,b,criterio)}')"
      ],
      "execution_count": 38,
      "outputs": [
        {
          "output_type": "stream",
          "name": "stdout",
          "text": [
            "Bisseção: Interação: 10, Raiz aproximada: 2.3564453125, Sinal: -0.0003547163055123148, Intervalo:[2.35546875, 2.357421875]\n",
            "Falsa posição: Interação: 2, Raiz aproximada: 2.3559603397315305, Sinal: 0.0003311387542938027, Intervalo:[2, 2.3674680399032155]\n"
          ]
        }
      ]
    },
    {
      "cell_type": "markdown",
      "source": [
        "**EXERCICIO 2**\n",
        "\n",
        "F(x) = 2x^3+5ln(x)-x   | [0.5 , 1]  |  E < 0,0005"
      ],
      "metadata": {
        "id": "y0xQGrgKOpVj"
      }
    },
    {
      "cell_type": "code",
      "source": [
        "math.log(10) #ln(10) "
      ],
      "metadata": {
        "colab": {
          "base_uri": "https://localhost:8080/",
          "height": 37
        },
        "id": "-yTDSD6QRWYo",
        "outputId": "5a7604b2-3f3d-4aaf-afeb-593c55488d1a"
      },
      "execution_count": 67,
      "outputs": [
        {
          "output_type": "execute_result",
          "data": {
            "text/plain": [
              "2.302585092994046"
            ],
            "image/png": "[encoded data removed]",
            "text/latex": "$\\displaystyle 2.30258509299405$"
          },
          "metadata": {},
          "execution_count": 67
        }
      ]
    },
    {
      "cell_type": "code",
      "metadata": {
        "colab": {
          "base_uri": "https://localhost:8080/"
        },
        "outputId": "b5d9952e-4047-49d0-beb5-4e45eb72f77b",
        "id": "bTfc63mDKK3j"
      },
      "source": [
        "#atividade II\n",
        "#exercicio2\n",
        "def equacao(x):\n",
        "  return 2*math.pow(x,3)+5*math.log(x) -x\n",
        "a=0.5\n",
        "b=1\n",
        "criterio=0.0005\n",
        "print(f'Bisseção: {main(equacao,raizBissecao,a,b,criterio)}')\n",
        "print(f'Falsa posição: {main(equacao,raizFalsaPosicao,a,b,criterio)}')"
      ],
      "execution_count": 68,
      "outputs": [
        {
          "output_type": "stream",
          "name": "stdout",
          "text": [
            "Bisseção: Interação: 11, Raiz aproximada: 0.896728515625, Sinal: 0.00041918988136080415, Intervalo:[0.896484375, 0.89697265625]\n",
            "Falsa posição: Interação: 3, Raiz aproximada: 0.8966816828079057, Sinal: -2.1059645792909087e-05, Intervalo:[0.8966061065925499, 1]\n"
          ]
        }
      ]
    },
    {
      "cell_type": "markdown",
      "source": [
        "\n",
        "**EXERCICIO 3**\n",
        "\n",
        "F(x) = 2ln(x) + 4sen(x)   **|** [4 , 5]  **|**  E < 0,05\n",
        "\n"
      ],
      "metadata": {
        "id": "XImizPysOpxS"
      }
    },
    {
      "cell_type": "code",
      "metadata": {
        "colab": {
          "base_uri": "https://localhost:8080/"
        },
        "outputId": "ef95c914-39c9-45d9-d834-5b858db7323f",
        "id": "uBWZP9B-KJYL"
      },
      "source": [
        "#atividade III\n",
        "def equacao(x):\n",
        "  return 2*math.log(x) + 4*math.sin(x)\n",
        "a=4\n",
        "b=5\n",
        "criterio=0.05\n",
        "print(f'Bisseção: {main(equacao,raizBissecao,a,b,criterio)}')\n",
        "print(f'Falsa posição: {main(equacao,raizFalsaPosicao,a,b,criterio)}')"
      ],
      "execution_count": null,
      "outputs": [
        {
          "output_type": "stream",
          "name": "stdout",
          "text": [
            "Bisseção: Interação: 7, Raiz aproximada: 1.796875, Sinal: 0.004802703857421875, Intervalo:[1.78125, 1.8125]\n",
            "Falsa posição: Interação: 4, Raiz aproximada: 1.7954221077376618, Sinal: -0.0078061481400704125, Intervalo:[1.7885887865872323, 2]\n"
          ]
        }
      ]
    },
    {
      "cell_type": "code",
      "metadata": {
        "id": "vqvKRNzfIr9n",
        "colab": {
          "base_uri": "https://localhost:8080/"
        },
        "outputId": "06ecd0b3-80e6-460b-af3d-9803078b590f"
      },
      "source": [
        "f = Lambda(x,x**3-x-4)\n",
        "a=0\n",
        "b=2\n",
        "criterio=0.03\n",
        "print(f'Bisseção: {main(f,raizBissecao,a,b,criterio)}')\n",
        "print(f'Falsa posição: {main(f,raizFalsaPosicao,a,b,criterio)}')"
      ],
      "execution_count": 15,
      "outputs": [
        {
          "output_type": "stream",
          "name": "stdout",
          "text": [
            "Bisseção: Interação: 7, Raiz aproximada: 1.796875, Sinal: 0.00480270385742188, Intervalo:[1.78125, 1.8125]\n",
            "Falsa posição: Interação: 4, Raiz aproximada: 31654906036/17630899107, Sinal: -42781909958929704387895239680/5480540362708178523240010178043, Intervalo:[75956/42467, 2]\n"
          ]
        }
      ]
    }
  ]
}